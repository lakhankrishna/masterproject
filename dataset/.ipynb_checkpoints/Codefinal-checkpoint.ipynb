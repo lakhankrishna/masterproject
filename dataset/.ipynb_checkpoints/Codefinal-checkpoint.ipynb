{
 "cells": [
  {
   "cell_type": "code",
   "execution_count": 1,
   "id": "7484fe81",
   "metadata": {},
   "outputs": [],
   "source": [
    "import os\n"
   ]
  },
  {
   "cell_type": "code",
   "execution_count": null,
   "id": "9fbc57f2",
   "metadata": {},
   "outputs": [],
   "source": [
    "# Define the paths to the directories\n",
    "dataset_path = \"/mnt/data/satellite_images\"\n",
    "train_hr_path = os.path.join(dataset_path, \"trainhr\")\n",
    "train_lr_path = os.path.join(dataset_path, \"trainlr\")\n",
    "val_hr_path = os.path.join(dataset_path, \"valhr\")\n",
    "val_lr_path = os.path.join(dataset_path, \"vallr\")\n",
    "test_hr_path = os.path.join(dataset_path, \"testhr\")\n",
    "test_lr_path = os.path.join(dataset_path, \"testlr\")\n",
    "\n",
    "# Count the number of images in each directory\n",
    "def count_images(directory):\n",
    "    return len([file for file in os.listdir(directory) if os.path.isfile(os.path.join(directory, file))])\n",
    "\n",
    "# Store the counts in a dictionary\n",
    "image_counts = {\n",
    "    \"Total Dataset\": sum(count_images(path) for path in [train_hr_path, train_lr_path, val_hr_path, val_lr_path, test_hr_path, test_lr_path]),\n",
    "    \"Train HR\": count_images(train_hr_path),\n",
    "    \"Train LR\": count_images(train_lr_path),\n",
    "    \"Validation HR\": count_images(val_hr_path),\n",
    "    \"Validation LR\": count_images(val_lr_path),\n",
    "    \"Test HR\": count_images(test_hr_path),\n",
    "    \"Test LR\": count_images(test_lr_path)\n",
    "}\n",
    "\n",
    "image_counts"
   ]
  }
 ],
 "metadata": {
  "kernelspec": {
   "display_name": "Python 3 (ipykernel)",
   "language": "python",
   "name": "python3"
  },
  "language_info": {
   "codemirror_mode": {
    "name": "ipython",
    "version": 3
   },
   "file_extension": ".py",
   "mimetype": "text/x-python",
   "name": "python",
   "nbconvert_exporter": "python",
   "pygments_lexer": "ipython3",
   "version": "3.10.9"
  }
 },
 "nbformat": 4,
 "nbformat_minor": 5
}
