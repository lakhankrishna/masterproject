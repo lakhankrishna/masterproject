{
 "cells": [
  {
   "cell_type": "code",
   "execution_count": 4,
   "id": "b9858ccf",
   "metadata": {},
   "outputs": [
    {
     "name": "stderr",
     "output_type": "stream",
     "text": [
      "Processing images: 100%|█████████████████████████████████████████████████████████████| 251/251 [00:28<00:00,  8.73it/s]\n"
     ]
    }
   ],
   "source": [
    "from PIL import Image, ImageFilter\n",
    "import os\n",
    "from tqdm import tqdm\n",
    "import warnings\n",
    "warnings.filterwarnings(\"ignore\")\n",
    "\n",
    "def reduce_resolution_with_blur(input_image_path, output_image_path, scale_factor, blur_radius):\n",
    "    # Open the original image\n",
    "    original_image = Image.open(input_image_path)\n",
    "    \n",
    "    # Calculate the new dimensions\n",
    "    new_width = int(original_image.width / scale_factor)\n",
    "    new_height = int(original_image.height / scale_factor)\n",
    "    \n",
    "    # Resize the image\n",
    "    low_res_image = original_image.resize((new_width, new_height), Image.ANTIALIAS)\n",
    "    \n",
    "    # Apply blur to the image\n",
    "    blurred_image = low_res_image.filter(ImageFilter.GaussianBlur(blur_radius))\n",
    "    \n",
    "    # Save the low-resolution, blurred image\n",
    "    blurred_image.save(output_image_path)\n",
    "    \n",
    "\n",
    "def process_images(input_directory, output_directory, scale_factor, blur_radius):\n",
    "    # Create output directory if it doesn't exist\n",
    "    if not os.path.exists(output_directory):\n",
    "        os.makedirs(output_directory)\n",
    "    \n",
    "    # Get list of files in the input directory\n",
    "    files = [f for f in os.listdir(input_directory) if f.endswith(('.png', '.jpg', '.jpeg', '.bmp', '.gif'))]\n",
    "    \n",
    "    # Process each image with progress bar\n",
    "    for filename in tqdm(files, desc=\"Processing images\"):\n",
    "        input_image_path = os.path.join(input_directory, filename)\n",
    "        output_image_path = os.path.join(output_directory, filename)\n",
    "        reduce_resolution_with_blur(input_image_path, output_image_path, scale_factor, blur_radius)\n",
    "\n",
    "# Example usage\n",
    "input_directory = './test_hr'\n",
    "output_directory = './test_lr'\n",
    "scale_factor = 4\n",
    "blur_radius = 2\n",
    "\n",
    "process_images(input_directory, output_directory, scale_factor, blur_radius)"
   ]
  },
  {
   "cell_type": "code",
   "execution_count": null,
   "id": "128cf4d1",
   "metadata": {},
   "outputs": [],
   "source": []
  }
 ],
 "metadata": {
  "kernelspec": {
   "display_name": "Python 3 (ipykernel)",
   "language": "python",
   "name": "python3"
  },
  "language_info": {
   "codemirror_mode": {
    "name": "ipython",
    "version": 3
   },
   "file_extension": ".py",
   "mimetype": "text/x-python",
   "name": "python",
   "nbconvert_exporter": "python",
   "pygments_lexer": "ipython3",
   "version": "3.10.9"
  }
 },
 "nbformat": 4,
 "nbformat_minor": 5
}
